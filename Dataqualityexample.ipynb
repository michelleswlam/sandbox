{
 "cells": [
  {
   "cell_type": "markdown",
   "metadata": {},
   "source": [
    "# EXAMPLE : ADD FLAG CONDITIONAL ON DATA QUALITY RULES\n",
    "\n",
    "Created Tue Jun 26 by Michelle.\n",
    "Updated Fri Jan 4 by Michelle to reflect new demo instance.\n",
    "\n",
    "## Scenario:\n",
    "The customer table (878) contains account_number and customer identifier, which have the following data quality rules:\n",
    "1. Account number should be 7 or 8 characters long\n",
    "2. Customer identifier should be 7, 8 or 9 characters long\n",
    "\n",
    "The data quality score for each of the rules above is calculated as: \n",
    "* The # of records that don't meet rule / Total # of records in dataset\n",
    "Based on a benchmark of 1%, the data quality rules are *not* met if either of the rules have a data quality score >= 1%. \n",
    "\n",
    "## Introduction:\n",
    "\n",
    "### This example uses:  \n",
    "* Compose Query API:\n",
    "- Get the latest query execution ID\n",
    "- Get the latest query execution result (from the ID)\n",
    "* Flags API to add a flag.\n",
    "* Customer table: https://demo-sales.alationcatalog.com/table/878/\n",
    "* This query that has been created and run in Compose: calculates the % of records that don't meet length requirements for customer id or account number. This is query 6777: https://demo-sales.alationcatalog.com/compose/query/7055/\n",
    "* Upload Logical Metadata API to update article \n",
    "\n",
    "### Steps in the logic:\n",
    "1. Set up the instance URL and token\n",
    "2. Print SQL just for clarity for this document\n",
    "3. Get latest execution id\n",
    "4. Use latest execution id to get the latest execution results\n",
    "5. Calculate data quality result based on results\n",
    "6. Updates flag based on results\n",
    "6. Update Article with summary of results\n",
    "\n",
    "### To run this example yourself, you need to:\n",
    "1. Update the *instance_url*\n",
    "2. Update the *token*\n",
    "3. Remove any existing flag with your username from table object https://demo-sales.alationcatalog.com/table/878/\n",
    "\n",
    "## Example:"
   ]
  },
  {
   "cell_type": "markdown",
   "metadata": {},
   "source": [
    "### 1. Set up instance parameters"
   ]
  },
  {
   "cell_type": "code",
   "execution_count": null,
   "metadata": {
    "collapsed": true
   },
   "outputs": [],
   "source": [
    "import requests\n",
    "import json\n",
    "import urllib\n",
    "import csv\n",
    "\n",
    "instance_url = 'https://demo-sales.alationcatalog.com/' # Alation instance URL\n",
    "token = 'fc6fc91c-c651-4c77-b2b4-da855f0d7bf7' # API token\n",
    "headers = {'token' : token}"
   ]
  },
  {
   "cell_type": "markdown",
   "metadata": {},
   "source": [
    "### 2. Get query text\n",
    "*This is just for documentation sake so that this document includes the text of the query for completeness.*"
   ]
  },
  {
   "cell_type": "code",
   "execution_count": null,
   "metadata": {},
   "outputs": [],
   "source": [
    "query_id = 7055\n",
    "\n",
    "api_url_sql = instance_url + '/integration/v1/query/{}/sql/'\n",
    "response = requests.request(\"GET\", api_url_sql.format(query_id), headers = headers)\n",
    "\n",
    "print(\"API URL:\",str(api_url_sql.format(query_id)))\n",
    "print(\"Link to query in Alation:\",'https://demo-sales.alationcatalog.com/query/7055/')\n",
    "print(\"SQL:\",response.text)"
   ]
  },
  {
   "cell_type": "markdown",
   "metadata": {},
   "source": [
    "### 3. Get last execution and result\n",
    "*The query is already run in Alation (currently no API to trigger a query to run). The execution result can be identified by an unique id. This step uses the API to get this ID and then subsequently uses the ID to get the actual results from that execution i.e. the data.*\n",
    "\n",
    "Latest query execution id is stored as **execution_id**\n",
    "Query results are stored in dictionary **a**."
   ]
  },
  {
   "cell_type": "code",
   "execution_count": null,
   "metadata": {},
   "outputs": [],
   "source": [
    "api_url_execid = instance_url + '/integration/v1/query/{}/result/latest/'\n",
    "response = requests.request(\"GET\", api_url_execid.format(query_id), headers = headers)\n",
    "execution_id = json.loads(response.content)['id']\n",
    "\n",
    "print(\"API URL:\",str(api_url_execid.format(execution_id)))\n",
    "print(\"Last execution id for query number\",query_id,\"is\",execution_id)"
   ]
  },
  {
   "cell_type": "code",
   "execution_count": null,
   "metadata": {},
   "outputs": [],
   "source": [
    "api_url_result = instance_url + '/integration/v1/result/{}/csv/'\n",
    "response = requests.request(\"GET\", api_url_result.format(execution_id), headers = headers)\n",
    "csv_reader = csv.reader(response.text.splitlines(), delimiter=',')\n",
    "x = list(csv_reader)\n",
    "\n",
    "n = 0\n",
    "a = {}\n",
    "while n < len(x[0]):\n",
    "    key = x[0][n]\n",
    "    value = x[1][n]\n",
    "    a[key] = value \n",
    "    n += 1\n",
    "\n",
    "print(\"API URL:\",str(api_url_result.format(execution_id)))\n",
    "\n",
    "print(\"Query results:\")\n",
    "\n",
    "for i in a:\n",
    "    print(i,\":\", a[i])"
   ]
  },
  {
   "cell_type": "markdown",
   "metadata": {},
   "source": [
    "### 4. Set benchmark and calculate whether results meet benchmark\n",
    "Calculate data quality result and store in variable **result**.\n",
    "If result meets benchmark, add an endorsement, otherwise add warning with link to the article with details. "
   ]
  },
  {
   "cell_type": "code",
   "execution_count": null,
   "metadata": {},
   "outputs": [],
   "source": [
    "benchmark = 1.0\n",
    "\n",
    "if float(a['dq_acc_num_perc']) > benchmark or float(a['dq_custid_perc']) > benchmark:\n",
    "    result = False\n",
    "else:\n",
    "    result = True\n",
    "    \n",
    "print(\"Passed data quality rules:\",result)"
   ]
  },
  {
   "cell_type": "code",
   "execution_count": null,
   "metadata": {},
   "outputs": [],
   "source": [
    "api_url_flag = instance_url + '/integration/flag/'\n",
    "\n",
    "if result:\n",
    "    data = {\n",
    "        \"flag_type\" : \"ENDORSEMENT\",\n",
    "        \"subject\": {\n",
    "            \"id\":878,\n",
    "            \"otype\":\"table\"\n",
    "            }\n",
    "        }    \n",
    "else:\n",
    "    data = {\n",
    "        \"flag_type\" : \"WARNING\",\n",
    "        \"flag_reason\": \"<p>Automated update:</p> Did not pass data quality rules: account or customer id length. Benchmark:\"+ str(benchmark) +\"%. <p>Please refer to:<a data-oid=\\\"1593\\\" data-otype=\\\"article\\\" href=\\\"/article/1593/\\\">Data Quality: Customer table</a></p>\",\n",
    "        \"subject\": {\n",
    "            \"id\":878,\n",
    "            \"otype\":\"table\"\n",
    "            }\n",
    "        }\n",
    "    \n",
    "response = requests.post(api_url_flag, json=data, headers=headers)\n",
    "print(response.text)"
   ]
  },
  {
   "cell_type": "markdown",
   "metadata": {
    "collapsed": true
   },
   "source": [
    "### 5. Update Article\n",
    "This step updates article with data quality result summary: https://demo-sales.alationcatalog.com/article/1593/data-quality-customer-table"
   ]
  },
  {
   "cell_type": "code",
   "execution_count": null,
   "metadata": {},
   "outputs": [],
   "source": [
    "import time\n",
    "import getpass\n",
    "\n",
    "# Formulate body text\n",
    "_time = time.strftime(\"%a, %d %b %Y %H:%M:%S\")\n",
    "_user = getpass.getuser()\n",
    "\n",
    "\n",
    "table_note = \"<p><b>Results relate to table</b>: <a data-oid=\\\"878\\\" data-otype=\\\"table\\\" href=\\\"/table/878/\\\">bank.customer (Customer)</a></p>\"\n",
    "update_note = \"<p><b>Rules last executed</b>: \"+ _time +\" by \" + _user + \"</p>\"\n",
    "dq_rules = \"<p><b>Results based on calculation:</b> <a data-oid=\\\"7055\\\" data-otype=\\\"query\\\" href=\\\"/query/7055/\\\">Data quality rules - account and customer id</a></p><p></p>\"\n",
    "benchmark_note = \"<br><p><b>Benchmark:</b> To meet data quality requirements, results were both required to be within \" + str(benchmark) + \"%.</p><p></p>\"\n",
    "result_formatted= \"<table> <tr> <th>Field</th> <th>Failed Records</th> <th>Total Records</th> <th>Fail as % Total</th> </tr> <tr> <td>account_number</td> <td>\" + str(a['dq_acc_num']) + \"</td> <td>\"+ str(a['records']) +\"</td> <td>\"+ str(a['dq_acc_num_perc']) +'</td> </tr> <tr> <td>custid</td> <td>'+ str(a['dq_custid']) +\"</td> <td>\"+ str(a['records']) +\"</td> <td>\"+ str(a['dq_custid_perc']) +\"</td> </tr> </table> </body>\"\n",
    "\n",
    "body = table_note + update_note + dq_rules + benchmark_note + result_formatted\n",
    "\n",
    "\n",
    "\n",
    "api_url_article = instance_url + '/api/v1/bulk_metadata/custom_fields/default/article?create_new=true&replace_values=true'\n",
    "\n",
    "data = {\n",
    "    \"key\": \"Data Quality: Customer table\", \n",
    "    \"description\":body\n",
    "}\n",
    "\n",
    "# Update article\n",
    "response = requests.post(api_url_article, json=data, headers=headers)\n",
    "\n",
    "# Print results\n",
    "#print(\"Article: https://demo-sales-v.alationdata.com/article/1410/\")\n",
    "print(\"Article updated with text:\")\n",
    "print(body)\n",
    "print(\"API URL:\",str(api_url_article))\n",
    "print(\"API response:\")\n",
    "print(response.text)\n"
   ]
  },
  {
   "cell_type": "markdown",
   "metadata": {},
   "source": [
    "### 6. Update table description"
   ]
  },
  {
   "cell_type": "code",
   "execution_count": null,
   "metadata": {},
   "outputs": [],
   "source": [
    "import requests\n",
    "import json\n",
    "\n",
    "_date = time.strftime(\"%Y-%m-%d\") # Format: 2018-07-30\n",
    "\n",
    "url = instance_url + '/api/v1/bulk_metadata/custom_fields/default/table?replace_values=true' \n",
    "\n",
    "data = {\n",
    "    \"key\": \"3.bank.customer\", \n",
    "    \"Data Quality Updated\": _date,\n",
    "    \"Data Quality Status\": \"Yellow\"\n",
    "}\n",
    "\n",
    "response = requests.post(url, json=data, headers=headers)\n",
    "print(response.text)\n"
   ]
  },
  {
   "cell_type": "code",
   "execution_count": null,
   "metadata": {
    "collapsed": true
   },
   "outputs": [],
   "source": []
  }
 ],
 "metadata": {
  "kernelspec": {
   "display_name": "Python 3",
   "language": "python",
   "name": "python3"
  },
  "language_info": {
   "codemirror_mode": {
    "name": "ipython",
    "version": 3
   },
   "file_extension": ".py",
   "mimetype": "text/x-python",
   "name": "python",
   "nbconvert_exporter": "python",
   "pygments_lexer": "ipython3",
   "version": "3.6.3"
  }
 },
 "nbformat": 4,
 "nbformat_minor": 2
}
